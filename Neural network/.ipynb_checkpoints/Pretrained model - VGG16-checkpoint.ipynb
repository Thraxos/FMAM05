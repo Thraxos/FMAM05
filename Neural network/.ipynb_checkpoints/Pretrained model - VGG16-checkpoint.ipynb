{
 "cells": [
  {
   "cell_type": "code",
   "execution_count": 31,
   "id": "dfd87f39",
   "metadata": {},
   "outputs": [
    {
     "data": {
      "text/plain": [
       "'2.4.3'"
      ]
     },
     "execution_count": 31,
     "metadata": {},
     "output_type": "execute_result"
    }
   ],
   "source": [
    "import keras\n",
    "import sklearn\n",
    "keras.__version__"
   ]
  },
  {
   "cell_type": "code",
   "execution_count": 2,
   "id": "9e6c9faf",
   "metadata": {},
   "outputs": [],
   "source": [
    "import os, shutil, glob"
   ]
  },
  {
   "cell_type": "code",
   "execution_count": 54,
   "id": "e2ad4800",
   "metadata": {},
   "outputs": [],
   "source": [
    "from keras.applications import VGG16\n",
    "\n",
    "conv_base = VGG16(weights='imagenet',\n",
    "                  include_top=False,\n",
    "                  input_shape=(150, 150, 3))"
   ]
  },
  {
   "cell_type": "code",
   "execution_count": 55,
   "id": "30905759",
   "metadata": {},
   "outputs": [
    {
     "name": "stdout",
     "output_type": "stream",
     "text": [
      "Model: \"vgg16\"\n",
      "_________________________________________________________________\n",
      "Layer (type)                 Output Shape              Param #   \n",
      "=================================================================\n",
      "input_3 (InputLayer)         [(None, 150, 150, 3)]     0         \n",
      "_________________________________________________________________\n",
      "block1_conv1 (Conv2D)        (None, 150, 150, 64)      1792      \n",
      "_________________________________________________________________\n",
      "block1_conv2 (Conv2D)        (None, 150, 150, 64)      36928     \n",
      "_________________________________________________________________\n",
      "block1_pool (MaxPooling2D)   (None, 75, 75, 64)        0         \n",
      "_________________________________________________________________\n",
      "block2_conv1 (Conv2D)        (None, 75, 75, 128)       73856     \n",
      "_________________________________________________________________\n",
      "block2_conv2 (Conv2D)        (None, 75, 75, 128)       147584    \n",
      "_________________________________________________________________\n",
      "block2_pool (MaxPooling2D)   (None, 37, 37, 128)       0         \n",
      "_________________________________________________________________\n",
      "block3_conv1 (Conv2D)        (None, 37, 37, 256)       295168    \n",
      "_________________________________________________________________\n",
      "block3_conv2 (Conv2D)        (None, 37, 37, 256)       590080    \n",
      "_________________________________________________________________\n",
      "block3_conv3 (Conv2D)        (None, 37, 37, 256)       590080    \n",
      "_________________________________________________________________\n",
      "block3_pool (MaxPooling2D)   (None, 18, 18, 256)       0         \n",
      "_________________________________________________________________\n",
      "block4_conv1 (Conv2D)        (None, 18, 18, 512)       1180160   \n",
      "_________________________________________________________________\n",
      "block4_conv2 (Conv2D)        (None, 18, 18, 512)       2359808   \n",
      "_________________________________________________________________\n",
      "block4_conv3 (Conv2D)        (None, 18, 18, 512)       2359808   \n",
      "_________________________________________________________________\n",
      "block4_pool (MaxPooling2D)   (None, 9, 9, 512)         0         \n",
      "_________________________________________________________________\n",
      "block5_conv1 (Conv2D)        (None, 9, 9, 512)         2359808   \n",
      "_________________________________________________________________\n",
      "block5_conv2 (Conv2D)        (None, 9, 9, 512)         2359808   \n",
      "_________________________________________________________________\n",
      "block5_conv3 (Conv2D)        (None, 9, 9, 512)         2359808   \n",
      "_________________________________________________________________\n",
      "block5_pool (MaxPooling2D)   (None, 4, 4, 512)         0         \n",
      "=================================================================\n",
      "Total params: 14,714,688\n",
      "Trainable params: 14,714,688\n",
      "Non-trainable params: 0\n",
      "_________________________________________________________________\n"
     ]
    }
   ],
   "source": [
    "conv_base.summary()"
   ]
  },
  {
   "cell_type": "code",
   "execution_count": 3,
   "id": "5ca5ff53",
   "metadata": {},
   "outputs": [],
   "source": [
    "# The directory where the datasets are stored\n",
    "base = 'datasets'\n",
    "\n",
    "# Directory with good basement pictures\n",
    "good_basement_dir = os.path.join(base, 'good basement streetviews')\n",
    "\n",
    "# Directory with good non basement pictures\n",
    "good_non_basement_dir = os.path.join(base, 'good non basement streetviews')\n",
    "\n",
    "# Directories for our training, validation\n",
    "# and test splits. \n",
    "train_dir = os.path.join(base, 'train')\n",
    "test_dir = os.path.join(base, 'test')\n",
    "validation_dir = os.path.join(base, 'validation')\n",
    "\n",
    "# Directory with our training basement pictures\n",
    "train_basement_dir = os.path.join(train_dir, 'basement')\n",
    "\n",
    "# Directory with our training non basement pictures\n",
    "train_non_basement_dir = os.path.join(train_dir, 'non_basement')\n",
    "\n",
    "# Directory with our validation basement pictures\n",
    "validation_basement_dir = os.path.join(validation_dir, 'basement')\n",
    "\n",
    "# Directory with our validation non basement pictures\n",
    "validation_non_basement_dir = os.path.join(validation_dir, 'non_basement')\n",
    "\n",
    "# Directory with our test basement pictures\n",
    "test_basement_dir = os.path.join(test_dir, 'basement')\n",
    "\n",
    "# Directory with our test non basement pictures\n",
    "test_non_basement_dir = os.path.join(test_dir, 'non_basement')\n"
   ]
  },
  {
   "cell_type": "code",
   "execution_count": 40,
   "id": "5e507d3a",
   "metadata": {},
   "outputs": [],
   "source": [
    "import random\n",
    "random.seed(340)\n",
    "basement_files = os.listdir(good_basement_dir)\n",
    "non_basement_files = os.listdir(good_non_basement_dir)\n",
    "\n",
    "n_test = 40\n",
    "n_validation = 60\n",
    "\n",
    "basement_test_sample = random.sample(basement_files, n_test)\n",
    "basement_train_sample = [file for file in basement_files if file not in basement_test_sample]\n",
    "basement_validation_sample = random.sample(basement_train_sample, n_validation)\n",
    "\n",
    "non_basement_test_sample = random.sample(non_basement_files, n_test)\n",
    "non_basement_train_sample = [file for file in non_basement_files if file not in non_basement_test_sample]\n",
    "non_basement_validation_sample = random.sample(non_basement_train_sample, n_validation)\n",
    "\n",
    "for file in basement_test_sample:\n",
    "    shutil.copy(os.path.join(good_basement_dir, file), test_basement_dir)\n",
    "for file in basement_train_sample:\n",
    "    shutil.copy(os.path.join(good_basement_dir, file), train_basement_dir)\n",
    "for file in basement_validation_sample:\n",
    "    shutil.copy(os.path.join(good_basement_dir, file), validation_basement_dir)\n",
    "    os.remove(os.path.join(train_basement_dir, file))\n",
    "\n",
    "for file in non_basement_test_sample:\n",
    "    shutil.copy(os.path.join(good_non_basement_dir, file), test_non_basement_dir)\n",
    "for file in non_basement_train_sample:\n",
    "    shutil.copy(os.path.join(good_non_basement_dir, file), train_non_basement_dir)\n",
    "for file in non_basement_validation_sample:\n",
    "    shutil.copy(os.path.join(good_non_basement_dir, file), validation_non_basement_dir)\n",
    "    os.remove(os.path.join(train_non_basement_dir, file))"
   ]
  },
  {
   "cell_type": "code",
   "execution_count": 8,
   "id": "5b6fe80b",
   "metadata": {},
   "outputs": [
    {
     "name": "stdout",
     "output_type": "stream",
     "text": [
      "total training images: 0\n"
     ]
    }
   ],
   "source": [
    "print('total training images:', len(os.listdir(train_basement_dir) + os.listdir(train_non_basement_dir)))"
   ]
  },
  {
   "cell_type": "code",
   "execution_count": 9,
   "id": "1f4b8398",
   "metadata": {},
   "outputs": [
    {
     "name": "stdout",
     "output_type": "stream",
     "text": [
      "total validation images: 0\n"
     ]
    }
   ],
   "source": [
    "print('total validation images:', len(os.listdir(validation_basement_dir) + os.listdir(validation_non_basement_dir)))"
   ]
  },
  {
   "cell_type": "code",
   "execution_count": 10,
   "id": "a98ed4ec",
   "metadata": {},
   "outputs": [
    {
     "name": "stdout",
     "output_type": "stream",
     "text": [
      "total test images: 0\n"
     ]
    }
   ],
   "source": [
    "print('total test images:', len(os.listdir(test_basement_dir) + os.listdir(test_non_basement_dir)))"
   ]
  },
  {
   "cell_type": "code",
   "execution_count": 56,
   "id": "9827400a",
   "metadata": {},
   "outputs": [],
   "source": [
    "from keras import models\n",
    "from keras import layers\n",
    "from keras import optimizers\n",
    "\n",
    "model = models.Sequential()\n",
    "model.add(conv_base)\n",
    "model.add(layers.Dropout(0.2))\n",
    "model.add(layers.Flatten())\n",
    "model.add(layers.Dense(256, activation='relu'))\n",
    "model.add(layers.Dense(1, activation='sigmoid'))\n",
    "\n",
    "model.compile(optimizer=optimizers.RMSprop(lr=2e-5),\n",
    "              loss='binary_crossentropy',\n",
    "              metrics=['acc'])"
   ]
  },
  {
   "cell_type": "code",
   "execution_count": 57,
   "id": "1b5f5b49",
   "metadata": {},
   "outputs": [
    {
     "name": "stdout",
     "output_type": "stream",
     "text": [
      "This is the number of trainable weights before freezing the conv base: 30\n"
     ]
    }
   ],
   "source": [
    "print('This is the number of trainable weights '\n",
    "      'before freezing the conv base:', len(model.trainable_weights))"
   ]
  },
  {
   "cell_type": "code",
   "execution_count": 58,
   "id": "a0e99788",
   "metadata": {},
   "outputs": [],
   "source": [
    "conv_base.trainable = False"
   ]
  },
  {
   "cell_type": "code",
   "execution_count": 59,
   "id": "cfbd2097",
   "metadata": {},
   "outputs": [
    {
     "name": "stdout",
     "output_type": "stream",
     "text": [
      "This is the number of trainable weights after freezing the conv base: 4\n"
     ]
    }
   ],
   "source": [
    "print('This is the number of trainable weights '\n",
    "      'after freezing the conv base:', len(model.trainable_weights))"
   ]
  },
  {
   "cell_type": "code",
   "execution_count": 60,
   "id": "80b5f036",
   "metadata": {},
   "outputs": [
    {
     "name": "stdout",
     "output_type": "stream",
     "text": [
      "Found 480 images belonging to 2 classes.\n",
      "Found 120 images belonging to 2 classes.\n"
     ]
    }
   ],
   "source": [
    "from keras.preprocessing.image import ImageDataGenerator\n",
    "\n",
    "train_datagen = ImageDataGenerator(\n",
    "      rescale=1./255,\n",
    "      rotation_range=40,\n",
    "      width_shift_range=0.2,\n",
    "      height_shift_range=0.2,\n",
    "      brightness_range=[0.3,0.9],\n",
    "      shear_range=0.2,\n",
    "      zoom_range=0.2,\n",
    "      horizontal_flip=True,\n",
    "      fill_mode='nearest'\n",
    "        )\n",
    "\n",
    "test_datagen = ImageDataGenerator(rescale=1./255)\n",
    "\n",
    "train_generator = train_datagen.flow_from_directory(\n",
    "        # This is the target directory\n",
    "        train_dir,\n",
    "        target_size=(150, 150),\n",
    "        batch_size=4,\n",
    "        # Since we use binary_crossentropy loss, we need binary labels\n",
    "        class_mode='binary')\n",
    "\n",
    "validation_generator = test_datagen.flow_from_directory(\n",
    "        validation_dir,\n",
    "        target_size=(150, 150),\n",
    "        batch_size=4,\n",
    "        class_mode='binary')"
   ]
  },
  {
   "cell_type": "code",
   "execution_count": 61,
   "id": "61807bf1",
   "metadata": {},
   "outputs": [],
   "source": [
    "conv_base.trainable = True\n",
    "\n",
    "set_trainable = False\n",
    "for layer in conv_base.layers:\n",
    "    if layer.name == 'block5_conv1':\n",
    "        set_trainable = True\n",
    "    if set_trainable:\n",
    "        layer.trainable = True\n",
    "    else:\n",
    "        layer.trainable = False\n"
   ]
  },
  {
   "cell_type": "code",
   "execution_count": 62,
   "id": "8c2a0343",
   "metadata": {},
   "outputs": [
    {
     "name": "stdout",
     "output_type": "stream",
     "text": [
      "Epoch 1/10\n",
      "120/120 - 101s - loss: 0.4739 - acc: 0.7833 - val_loss: 0.4780 - val_acc: 0.8083\n",
      "Epoch 2/10\n",
      "120/120 - 100s - loss: 0.3816 - acc: 0.8396 - val_loss: 0.3416 - val_acc: 0.8250\n",
      "Epoch 3/10\n",
      "120/120 - 101s - loss: 0.4059 - acc: 0.8417 - val_loss: 0.3528 - val_acc: 0.8500\n",
      "Epoch 4/10\n",
      "120/120 - 100s - loss: 0.3429 - acc: 0.8625 - val_loss: 0.3615 - val_acc: 0.8417\n",
      "Epoch 5/10\n",
      "120/120 - 100s - loss: 0.3387 - acc: 0.8583 - val_loss: 0.3118 - val_acc: 0.8167\n",
      "Epoch 6/10\n",
      "120/120 - 101s - loss: 0.3352 - acc: 0.8604 - val_loss: 0.3090 - val_acc: 0.8333\n",
      "Epoch 7/10\n",
      "120/120 - 101s - loss: 0.3029 - acc: 0.8813 - val_loss: 0.4375 - val_acc: 0.8333\n",
      "Epoch 8/10\n",
      "120/120 - 100s - loss: 0.3364 - acc: 0.8479 - val_loss: 0.3047 - val_acc: 0.8750\n",
      "Epoch 9/10\n",
      "120/120 - 100s - loss: 0.2809 - acc: 0.8917 - val_loss: 0.2711 - val_acc: 0.8833\n",
      "Epoch 10/10\n",
      "120/120 - 100s - loss: 0.3059 - acc: 0.8604 - val_loss: 0.2778 - val_acc: 0.8750\n"
     ]
    }
   ],
   "source": [
    "model.compile(loss='binary_crossentropy',\n",
    "              optimizer=optimizers.RMSprop(lr=1e-5),\n",
    "              metrics=['acc'])\n",
    "\n",
    "history = model.fit(\n",
    "      train_generator,\n",
    "      steps_per_epoch=120,\n",
    "      epochs=10,\n",
    "      validation_data=validation_generator,\n",
    "      validation_steps=30,\n",
    "      verbose=2)"
   ]
  },
  {
   "cell_type": "code",
   "execution_count": 73,
   "id": "8798c8b4",
   "metadata": {},
   "outputs": [],
   "source": [
    "#model.save('vgg16_no_augmentation_10_epochs')"
   ]
  },
  {
   "cell_type": "code",
   "execution_count": 63,
   "id": "c8182b4b",
   "metadata": {},
   "outputs": [
    {
     "data": {
      "image/png": "[encoded data removed]",
      "text/plain": [
       "<Figure size 432x288 with 1 Axes>"
      ]
     },
     "metadata": {
      "needs_background": "light"
     },
     "output_type": "display_data"
    },
    {
     "data": {
      "image/png": "[encoded data removed]",
      "text/plain": [
       "<Figure size 432x288 with 1 Axes>"
      ]
     },
     "metadata": {
      "needs_background": "light"
     },
     "output_type": "display_data"
    }
   ],
   "source": [
    "import matplotlib.pyplot as plt\n",
    "acc = history.history['acc']\n",
    "val_acc = history.history['val_acc']\n",
    "loss = history.history['loss']\n",
    "val_loss = history.history['val_loss']\n",
    "\n",
    "epochs = range(len(acc))\n",
    "\n",
    "plt.plot(epochs, acc, 'bo', label='Training acc')\n",
    "plt.plot(epochs, val_acc, 'b', label='Validation acc')\n",
    "plt.title('Training and validation accuracy')\n",
    "plt.legend()\n",
    "\n",
    "plt.figure()\n",
    "\n",
    "plt.plot(epochs, loss, 'bo', label='Training loss')\n",
    "plt.plot(epochs, val_loss, 'b', label='Validation loss')\n",
    "plt.title('Training and validation loss')\n",
    "plt.legend()\n",
    "\n",
    "plt.show()"
   ]
  },
  {
   "cell_type": "code",
   "execution_count": 64,
   "id": "e853d390",
   "metadata": {},
   "outputs": [
    {
     "data": {
      "image/png": "[encoded data removed]",
      "text/plain": [
       "<Figure size 432x288 with 1 Axes>"
      ]
     },
     "metadata": {
      "needs_background": "light"
     },
     "output_type": "display_data"
    },
    {
     "data": {
      "image/png": "[encoded data removed]",
      "text/plain": [
       "<Figure size 432x288 with 1 Axes>"
      ]
     },
     "metadata": {
      "needs_background": "light"
     },
     "output_type": "display_data"
    }
   ],
   "source": [
    "def smooth_curve(points, factor=0.8):\n",
    "  smoothed_points = []\n",
    "  for point in points:\n",
    "    if smoothed_points:\n",
    "      previous = smoothed_points[-1]\n",
    "      smoothed_points.append(previous * factor + point * (1 - factor))\n",
    "    else:\n",
    "      smoothed_points.append(point)\n",
    "  return smoothed_points\n",
    "\n",
    "plt.plot(epochs,\n",
    "         smooth_curve(acc), 'bo', label='Smoothed training acc')\n",
    "plt.plot(epochs,\n",
    "         smooth_curve(val_acc), 'b', label='Smoothed validation acc')\n",
    "plt.title('Training and validation accuracy')\n",
    "plt.legend()\n",
    "\n",
    "plt.figure()\n",
    "\n",
    "plt.plot(epochs,\n",
    "         smooth_curve(loss), 'bo', label='Smoothed training loss')\n",
    "plt.plot(epochs,\n",
    "         smooth_curve(val_loss), 'b', label='Smoothed validation loss')\n",
    "plt.title('Training and validation loss')\n",
    "plt.legend()\n",
    "\n",
    "plt.show()"
   ]
  },
  {
   "cell_type": "code",
   "execution_count": 65,
   "id": "deb1a90b",
   "metadata": {},
   "outputs": [
    {
     "name": "stdout",
     "output_type": "stream",
     "text": [
      "Found 80 images belonging to 2 classes.\n",
      "8/8 [==============================] - 10s 1s/step - loss: 0.2039 - acc: 0.9250\n",
      "test acc: 0.925000011920929\n"
     ]
    },
    {
     "data": {
      "text/plain": [
       "array([[37,  3],\n",
       "       [ 3, 37]], dtype=int64)"
      ]
     },
     "execution_count": 65,
     "metadata": {},
     "output_type": "execute_result"
    }
   ],
   "source": [
    "test_datagen2 = ImageDataGenerator(rescale=1./255)\n",
    "\n",
    "test_generator2 = test_datagen2.flow_from_directory(\n",
    "        test_dir,\n",
    "        target_size=(150, 150),\n",
    "        batch_size=10,\n",
    "        class_mode='binary',\n",
    "        shuffle=False)\n",
    "\n",
    "test_loss, test_acc = model.evaluate(test_generator2)\n",
    "print('test acc:', test_acc)\n",
    "\n",
    "probabilities = model.predict(test_generator2)\n",
    "\n",
    "#print(probabilities)\n",
    "from sklearn.metrics import confusion_matrix\n",
    "import numpy as np\n",
    "y_true = np.array([0] * 40 + [1] * 40)\n",
    "y_pred = probabilities > 0.5\n",
    "\n",
    "confusion_matrix(y_true, y_pred)"
   ]
  },
  {
   "cell_type": "code",
   "execution_count": 7,
   "id": "d6846140",
   "metadata": {},
   "outputs": [],
   "source": [
    "#Removes all files from the training, validation and test folders\n",
    "for file in os.listdir(train_basement_dir):\n",
    "    os.remove(os.path.join(train_basement_dir, file))\n",
    "for file in os.listdir(train_non_basement_dir):\n",
    "    os.remove(os.path.join(train_non_basement_dir, file))\n",
    "\n",
    "for file in os.listdir(validation_basement_dir):\n",
    "    os.remove(os.path.join(validation_basement_dir, file))\n",
    "for file in os.listdir(validation_non_basement_dir):\n",
    "    os.remove(os.path.join(validation_non_basement_dir, file))\n",
    "\n",
    "for file in os.listdir(test_basement_dir):\n",
    "    os.remove(os.path.join(test_basement_dir, file))\n",
    "for file in os.listdir(test_non_basement_dir):\n",
    "    os.remove(os.path.join(test_non_basement_dir, file))"
   ]
  },
  {
   "cell_type": "code",
   "execution_count": null,
   "id": "7c811d1d",
   "metadata": {},
   "outputs": [],
   "source": []
  }
 ],
 "metadata": {
  "kernelspec": {
   "display_name": "Python 3",
   "language": "python",
   "name": "python3"
  },
  "language_info": {
   "codemirror_mode": {
    "name": "ipython",
    "version": 3
   },
   "file_extension": ".py",
   "mimetype": "text/x-python",
   "name": "python",
   "nbconvert_exporter": "python",
   "pygments_lexer": "ipython3",
   "version": "3.7.11"
  }
 },
 "nbformat": 4,
 "nbformat_minor": 5
}
